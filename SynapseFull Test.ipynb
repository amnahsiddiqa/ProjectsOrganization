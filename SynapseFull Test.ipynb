{
 "cells": [
  {
   "cell_type": "markdown",
   "metadata": {},
   "source": [
    "    Amnah Siddiqa\n",
    "    Synapse Test Project realted things Info\n",
    "    Oct 29, 2020"
   ]
  },
  {
   "cell_type": "code",
   "execution_count": 35,
   "metadata": {},
   "outputs": [],
   "source": [
    "#pip install synapseclient"
   ]
  },
  {
   "cell_type": "code",
   "execution_count": 36,
   "metadata": {},
   "outputs": [],
   "source": [
    "#conda install synapseclient"
   ]
  },
  {
   "cell_type": "code",
   "execution_count": 18,
   "metadata": {},
   "outputs": [],
   "source": [
    "import synapseclient\n",
    "from synapseclient import File\n",
    "\n",
    "import synapseutils\n",
    "syn = synapseclient.Synapse()\n",
    "\n",
    "## log in using username and password--you have to do it often \n",
    "#syn.login('amnah.siddiqa@emory.edu', 'barabassi123')\n"
   ]
  },
  {
   "cell_type": "code",
   "execution_count": 19,
   "metadata": {},
   "outputs": [
    {
     "name": "stdout",
     "output_type": "stream",
     "text": [
      "Welcome, amnah siddiqa!\n",
      "\n"
     ]
    }
   ],
   "source": [
    "#it will going to remmeber it\n",
    "#had to do it once \n",
    "syn.login('amnahsiddiqa@gmail.com', 'barabassi123', rememberMe=True)"
   ]
  },
  {
   "cell_type": "markdown",
   "metadata": {},
   "source": [
    "### Login "
   ]
  },
  {
   "cell_type": "code",
   "execution_count": 3,
   "metadata": {},
   "outputs": [
    {
     "name": "stdout",
     "output_type": "stream",
     "text": [
      "Welcome, amnah siddiqa!\n",
      "\n"
     ]
    }
   ],
   "source": [
    "#then always use this for next times \n",
    "syn = synapseclient.login()"
   ]
  },
  {
   "cell_type": "code",
   "execution_count": 4,
   "metadata": {},
   "outputs": [],
   "source": [
    "#Using Test dataproject named estProjectAmnah with id = syn23531433 for testing "
   ]
  },
  {
   "cell_type": "markdown",
   "metadata": {},
   "source": [
    "### Using project synids for different things "
   ]
  },
  {
   "cell_type": "code",
   "execution_count": 5,
   "metadata": {},
   "outputs": [
    {
     "data": {
      "text/plain": [
       "Project(createdBy='3389615', parentId='syn4489', name='MyUniqueProject', modifiedBy='3389615', modifiedOn='2020-10-29T19:02:35.381Z', concreteType='org.sagebionetworks.repo.model.Project', id='syn23532058', createdOn='2020-10-29T18:36:57.816Z', etag='00dd7eef-348f-481a-80e4-726e5a81dc53')"
      ]
     },
     "execution_count": 5,
     "metadata": {},
     "output_type": "execute_result"
    }
   ],
   "source": [
    "#My main project synid = syn23531433\n",
    "#project name is TestProjectAmnah\n",
    "entity = syn.get('syn23532058')\n",
    "entity"
   ]
  },
  {
   "cell_type": "markdown",
   "metadata": {},
   "source": [
    "## Upload and sync a local data folder"
   ]
  },
  {
   "cell_type": "code",
   "execution_count": 45,
   "metadata": {},
   "outputs": [
    {
     "name": "stderr",
     "output_type": "stream",
     "text": [
      "[WARNING] \n",
      "!!!!!!!!!!!!!!!!!!!!!!!!!!!!!!!!!!!!!!!!!!!!!!!!!!\n",
      "ifcollision=overwrite.localis being IGNORED because the download destination is synapse's cache. Instead, the behavior is \"overwrite.local\". \n",
      "!!!!!!!!!!!!!!!!!!!!!!!!!!!!!!!!!!!!!!!!!!!!!!!!!!\n",
      "\n",
      "[WARNING] \n",
      "!!!!!!!!!!!!!!!!!!!!!!!!!!!!!!!!!!!!!!!!!!!!!!!!!!\n",
      "ifcollision=overwrite.localis being IGNORED because the download destination is synapse's cache. Instead, the behavior is \"overwrite.local\". \n",
      "!!!!!!!!!!!!!!!!!!!!!!!!!!!!!!!!!!!!!!!!!!!!!!!!!!\n",
      "\n",
      "[WARNING] \n",
      "!!!!!!!!!!!!!!!!!!!!!!!!!!!!!!!!!!!!!!!!!!!!!!!!!!\n",
      "ifcollision=overwrite.localis being IGNORED because the download destination is synapse's cache. Instead, the behavior is \"overwrite.local\". \n",
      "!!!!!!!!!!!!!!!!!!!!!!!!!!!!!!!!!!!!!!!!!!!!!!!!!!\n",
      "\n",
      "[WARNING] \n",
      "!!!!!!!!!!!!!!!!!!!!!!!!!!!!!!!!!!!!!!!!!!!!!!!!!!\n",
      "ifcollision=overwrite.localis being IGNORED because the download destination is synapse's cache. Instead, the behavior is \"overwrite.local\". \n",
      "!!!!!!!!!!!!!!!!!!!!!!!!!!!!!!!!!!!!!!!!!!!!!!!!!!\n",
      "\n",
      "[WARNING] \n",
      "!!!!!!!!!!!!!!!!!!!!!!!!!!!!!!!!!!!!!!!!!!!!!!!!!!\n",
      "ifcollision=overwrite.localis being IGNORED because the download destination is synapse's cache. Instead, the behavior is \"overwrite.local\". \n",
      "!!!!!!!!!!!!!!!!!!!!!!!!!!!!!!!!!!!!!!!!!!!!!!!!!!\n",
      "\n"
     ]
    },
    {
     "name": "stdout",
     "output_type": "stream",
     "text": [
      "/Users/momo/SynapseDOwnloads/491/67954491/HIPCCHI_SciImm_2017.pdf\n",
      "/Users/momo/SynapseDOwnloads/491/67954491/HIPCCHI_SciImm_2017.pdf\n",
      "/Users/momo/SynapseDOwnloads/653/67954653/NIHMS936969-supplement-SM.pdf\n",
      "/Users/momo/SynapseDOwnloads/664/67954664/1-s2.0-S0092867414004061-mmc5.pdf\n",
      "/Users/momo/SynapseDOwnloads/780/67953780/file4a816669f99a\n"
     ]
    }
   ],
   "source": [
    "entities = synapseutils.sync.syncFromSynapse(syn, \"syn23532058\")\n",
    "for f in entities:\n",
    "    print(f.path)\n",
    "    #it prints in ajjeb c heirarchy "
   ]
  },
  {
   "cell_type": "code",
   "execution_count": 52,
   "metadata": {},
   "outputs": [
    {
     "name": "stdout",
     "output_type": "stream",
     "text": [
      "[('file4a816669f99a', 'syn23532062')]\n",
      "[('HIPCCHI_SciImm_2017.pdf', 'syn23532108')]\n",
      "[('1-s2.0-S0092867414004061-mmc5.pdf', 'syn23532115'), ('HIPCCHI_SciImm_2017.pdf', 'syn23532109'), ('NIHMS936969-supplement-SM.pdf', 'syn23532114')]\n",
      "[]\n",
      "[]\n",
      "[]\n"
     ]
    }
   ],
   "source": [
    "walkedPath = synapseutils.walk(syn, \"syn23532058\")\n",
    "\n",
    "\n",
    "for dirpath, dirname, filename in walkedPath:\n",
    "    #print(dirpath)\n",
    "    #print(dirname) #All the folders in the directory path\n",
    "    print(filename) #All the files in the directory path"
   ]
  },
  {
   "cell_type": "code",
   "execution_count": 51,
   "metadata": {},
   "outputs": [
    {
     "data": {
      "text/plain": [
       "<generator object _helpWalk at 0x10c606050>"
      ]
     },
     "execution_count": 51,
     "metadata": {},
     "output_type": "execute_result"
    }
   ],
   "source": [
    "synapseutils.sync.generateManifest(syn, allFiles, filename, provenance_cache=None)"
   ]
  },
  {
   "cell_type": "code",
   "execution_count": 55,
   "metadata": {},
   "outputs": [
    {
     "ename": "SyntaxError",
     "evalue": "invalid syntax (<ipython-input-55-1cb73624a554>, line 1)",
     "output_type": "error",
     "traceback": [
      "\u001b[0;36m  File \u001b[0;32m\"<ipython-input-55-1cb73624a554>\"\u001b[0;36m, line \u001b[0;32m1\u001b[0m\n\u001b[0;31m    sudo pip install synapsesync\u001b[0m\n\u001b[0m           ^\u001b[0m\n\u001b[0;31mSyntaxError\u001b[0m\u001b[0;31m:\u001b[0m invalid syntax\n"
     ]
    }
   ],
   "source": [
    "sudo pip install synapsesync"
   ]
  },
  {
   "cell_type": "code",
   "execution_count": 53,
   "metadata": {},
   "outputs": [
    {
     "ename": "ModuleNotFoundError",
     "evalue": "No module named 'synapsesync'",
     "output_type": "error",
     "traceback": [
      "\u001b[0;31m---------------------------------------------------------------------------\u001b[0m",
      "\u001b[0;31mModuleNotFoundError\u001b[0m                       Traceback (most recent call last)",
      "\u001b[0;32m<ipython-input-53-034eea1638e8>\u001b[0m in \u001b[0;36m<module>\u001b[0;34m\u001b[0m\n\u001b[0;32m----> 1\u001b[0;31m \u001b[0;32mfrom\u001b[0m \u001b[0msynapsesync\u001b[0m \u001b[0;32mimport\u001b[0m \u001b[0mSynpaseProject\u001b[0m\u001b[0;34m,\u001b[0m \u001b[0mGDriveSession\u001b[0m\u001b[0;34m\u001b[0m\u001b[0;34m\u001b[0m\u001b[0m\n\u001b[0m\u001b[1;32m      2\u001b[0m \u001b[0;32mfrom\u001b[0m \u001b[0msynapseutils\u001b[0m\u001b[0;34m.\u001b[0m\u001b[0msync\u001b[0m \u001b[0;32mimport\u001b[0m \u001b[0msyncFromSynapse\u001b[0m\u001b[0;34m\u001b[0m\u001b[0;34m\u001b[0m\u001b[0m\n",
      "\u001b[0;31mModuleNotFoundError\u001b[0m: No module named 'synapsesync'"
     ]
    }
   ],
   "source": [
    "from synapsesync import SynpaseProject, GDriveSession\n",
    "from synapseutils.sync import syncFromSynapse"
   ]
  },
  {
   "cell_type": "code",
   "execution_count": null,
   "metadata": {},
   "outputs": [],
   "source": [
    "##what is this parent id in project id ? perhaps my synapse account related info "
   ]
  },
  {
   "cell_type": "code",
   "execution_count": 56,
   "metadata": {},
   "outputs": [
    {
     "ename": "SyntaxError",
     "evalue": "invalid syntax (<ipython-input-56-684bcfe6d06a>, line 1)",
     "output_type": "error",
     "traceback": [
      "\u001b[0;36m  File \u001b[0;32m\"<ipython-input-56-684bcfe6d06a>\"\u001b[0;36m, line \u001b[0;32m1\u001b[0m\n\u001b[0;31m    git clone https://github.com/zdk123/SpiecEasiSLR_manuscript.git\u001b[0m\n\u001b[0m            ^\u001b[0m\n\u001b[0;31mSyntaxError\u001b[0m\u001b[0;31m:\u001b[0m invalid syntax\n"
     ]
    }
   ],
   "source": []
  },
  {
   "cell_type": "code",
   "execution_count": null,
   "metadata": {},
   "outputs": [],
   "source": [
    "git clone https://github.com/zdk123/SpiecEasiSLR_manuscript.git\n",
    "cd SpiecEasiSLR_manuscript"
   ]
  },
  {
   "cell_type": "code",
   "execution_count": 60,
   "metadata": {},
   "outputs": [
    {
     "ename": "SyntaxError",
     "evalue": "invalid syntax (<ipython-input-60-2215ec2bd167>, line 1)",
     "output_type": "error",
     "traceback": [
      "\u001b[0;36m  File \u001b[0;32m\"<ipython-input-60-2215ec2bd167>\"\u001b[0;36m, line \u001b[0;32m1\u001b[0m\n\u001b[0;31m    conda env create -n seslr -f docker/environment_minimal.yml\u001b[0m\n\u001b[0m            ^\u001b[0m\n\u001b[0;31mSyntaxError\u001b[0m\u001b[0;31m:\u001b[0m invalid syntax\n"
     ]
    }
   ],
   "source": [
    "conda env create -n seslr -f docker/environment_minimal.yml\n",
    "Rscript -e \"devtools::install_github('zdk123/SpiecEasi', ref='d6cf2fb', upgrade='never')\"\n"
   ]
  },
  {
   "cell_type": "code",
   "execution_count": 11,
   "metadata": {},
   "outputs": [
    {
     "name": "stdout",
     "output_type": "stream",
     "text": [
      "\u001b[31mERROR: Invalid requirement: '/Users/momo/Downloads/SynapseSync-master/setup.py'\n",
      "Hint: It looks like a path. It does exist.\u001b[0m\n",
      "Note: you may need to restart the kernel to use updated packages.\n"
     ]
    }
   ],
   "source": [
    "pip install /"
   ]
  },
  {
   "cell_type": "code",
   "execution_count": 15,
   "metadata": {},
   "outputs": [
    {
     "data": {
      "text/plain": [
       "'/Users/momo/Google Drive/Codes2020_SiddiqaAmnah/Synapse'"
      ]
     },
     "execution_count": 15,
     "metadata": {},
     "output_type": "execute_result"
    }
   ],
   "source": [
    "pwd"
   ]
  },
  {
   "cell_type": "code",
   "execution_count": 16,
   "metadata": {},
   "outputs": [
    {
     "name": "stdout",
     "output_type": "stream",
     "text": [
      "[Errno 2] No such file or directory: '/Users/momo/GoogleDrive/Codes2020_SiddiqaAmnah/Synapse/SynapseSync-master'\n",
      "/Users/momo/Google Drive/Codes2020_SiddiqaAmnah/Synapse\n"
     ]
    }
   ],
   "source": [
    "cd /Users/momo/Google\\Drive/Codes2020_SiddiqaAmnah/Synapse/SynapseSync-master"
   ]
  },
  {
   "cell_type": "code",
   "execution_count": 17,
   "metadata": {},
   "outputs": [
    {
     "name": "stdout",
     "output_type": "stream",
     "text": [
      "Collecting git+https://github.com/zdk123/SynapseSync\n",
      "  Cloning https://github.com/zdk123/SynapseSync to /private/var/folders/qy/4dppq_qj1w9b44bffc62k4x00000gn/T/pip-req-build-7knai_io\n",
      "  Running command git clone -q https://github.com/zdk123/SynapseSync /private/var/folders/qy/4dppq_qj1w9b44bffc62k4x00000gn/T/pip-req-build-7knai_io\n",
      "Requirement already satisfied (use --upgrade to upgrade): synapsesync==0.0.2 from git+https://github.com/zdk123/SynapseSync in /Users/momo/Documents/anaconda3/lib/python3.7/site-packages\n",
      "Requirement already satisfied: synapseclient in /Users/momo/Documents/anaconda3/lib/python3.7/site-packages (from synapsesync==0.0.2) (2.2.2)\n",
      "Requirement already satisfied: pydrive in /Users/momo/Documents/anaconda3/lib/python3.7/site-packages (from synapsesync==0.0.2) (1.3.1)\n",
      "Requirement already satisfied: treelib in /Users/momo/Documents/anaconda3/lib/python3.7/site-packages (from synapsesync==0.0.2) (1.6.1)\n",
      "Requirement already satisfied: requests in /Users/momo/Documents/anaconda3/lib/python3.7/site-packages (from synapsesync==0.0.2) (2.22.0)\n",
      "Requirement already satisfied: prov in /Users/momo/Documents/anaconda3/lib/python3.7/site-packages (from synapsesync==0.0.2) (1.5.3)\n",
      "Requirement already satisfied: typing in /Users/momo/Documents/anaconda3/lib/python3.7/site-packages (from synapsesync==0.0.2) (3.7.4.3)\n",
      "Requirement already satisfied: pydot in /Users/momo/Documents/anaconda3/lib/python3.7/site-packages (from synapsesync==0.0.2) (1.4.1)\n",
      "Requirement already satisfied: keyring==12.0.2 in /Users/momo/Documents/anaconda3/lib/python3.7/site-packages (from synapseclient->synapsesync==0.0.2) (12.0.2)\n",
      "Requirement already satisfied: deprecated<2.0,>=1.2.4 in /Users/momo/Documents/anaconda3/lib/python3.7/site-packages (from synapseclient->synapsesync==0.0.2) (1.2.10)\n",
      "Requirement already satisfied: google-api-python-client>=1.2 in /Users/momo/Documents/anaconda3/lib/python3.7/site-packages (from pydrive->synapsesync==0.0.2) (1.12.5)\n",
      "Requirement already satisfied: oauth2client>=4.0.0 in /Users/momo/Documents/anaconda3/lib/python3.7/site-packages (from pydrive->synapsesync==0.0.2) (4.1.3)\n",
      "Requirement already satisfied: PyYAML>=3.0 in /Users/momo/Documents/anaconda3/lib/python3.7/site-packages (from pydrive->synapsesync==0.0.2) (5.3)\n",
      "Requirement already satisfied: future in /Users/momo/Documents/anaconda3/lib/python3.7/site-packages (from treelib->synapsesync==0.0.2) (0.18.2)\n",
      "Requirement already satisfied: chardet<3.1.0,>=3.0.2 in /Users/momo/Documents/anaconda3/lib/python3.7/site-packages (from requests->synapsesync==0.0.2) (3.0.4)\n",
      "Requirement already satisfied: certifi>=2017.4.17 in /Users/momo/Documents/anaconda3/lib/python3.7/site-packages (from requests->synapsesync==0.0.2) (2020.6.20)\n",
      "Requirement already satisfied: idna<2.9,>=2.5 in /Users/momo/Documents/anaconda3/lib/python3.7/site-packages (from requests->synapsesync==0.0.2) (2.8)\n",
      "Requirement already satisfied: urllib3!=1.25.0,!=1.25.1,<1.26,>=1.21.1 in /Users/momo/Documents/anaconda3/lib/python3.7/site-packages (from requests->synapsesync==0.0.2) (1.25.8)\n",
      "Requirement already satisfied: six>=1.9.0 in /Users/momo/Documents/anaconda3/lib/python3.7/site-packages (from prov->synapsesync==0.0.2) (1.14.0)\n",
      "Requirement already satisfied: lxml>=3.3.5 in /Users/momo/Documents/anaconda3/lib/python3.7/site-packages (from prov->synapsesync==0.0.2) (4.5.0)\n",
      "Requirement already satisfied: python-dateutil>=2.2 in /Users/momo/Documents/anaconda3/lib/python3.7/site-packages (from prov->synapsesync==0.0.2) (2.8.1)\n",
      "Requirement already satisfied: networkx>=2.0 in /Users/momo/Documents/anaconda3/lib/python3.7/site-packages (from prov->synapsesync==0.0.2) (2.4)\n",
      "Requirement already satisfied: rdflib>=4.2.1 in /Users/momo/Documents/anaconda3/lib/python3.7/site-packages (from prov->synapsesync==0.0.2) (5.0.0)\n",
      "Requirement already satisfied: pyparsing>=2.1.4 in /Users/momo/Documents/anaconda3/lib/python3.7/site-packages (from pydot->synapsesync==0.0.2) (2.4.6)\n",
      "Requirement already satisfied: entrypoints in /Users/momo/Documents/anaconda3/lib/python3.7/site-packages (from keyring==12.0.2->synapseclient->synapsesync==0.0.2) (0.3)\n",
      "Requirement already satisfied: wrapt<2,>=1.10 in /Users/momo/Documents/anaconda3/lib/python3.7/site-packages (from deprecated<2.0,>=1.2.4->synapseclient->synapsesync==0.0.2) (1.11.2)\n",
      "Requirement already satisfied: google-api-core<2dev,>=1.21.0 in /Users/momo/Documents/anaconda3/lib/python3.7/site-packages (from google-api-python-client>=1.2->pydrive->synapsesync==0.0.2) (1.23.0)\n",
      "Requirement already satisfied: uritemplate<4dev,>=3.0.0 in /Users/momo/Documents/anaconda3/lib/python3.7/site-packages (from google-api-python-client>=1.2->pydrive->synapsesync==0.0.2) (3.0.1)\n",
      "Requirement already satisfied: google-auth>=1.16.0 in /Users/momo/Documents/anaconda3/lib/python3.7/site-packages (from google-api-python-client>=1.2->pydrive->synapsesync==0.0.2) (1.23.0)\n",
      "Requirement already satisfied: httplib2<1dev,>=0.15.0 in /Users/momo/Documents/anaconda3/lib/python3.7/site-packages (from google-api-python-client>=1.2->pydrive->synapsesync==0.0.2) (0.18.1)\n",
      "Requirement already satisfied: google-auth-httplib2>=0.0.3 in /Users/momo/Documents/anaconda3/lib/python3.7/site-packages (from google-api-python-client>=1.2->pydrive->synapsesync==0.0.2) (0.0.4)\n",
      "Requirement already satisfied: rsa>=3.1.4 in /Users/momo/Documents/anaconda3/lib/python3.7/site-packages (from oauth2client>=4.0.0->pydrive->synapsesync==0.0.2) (4.6)\n",
      "Requirement already satisfied: pyasn1>=0.1.7 in /Users/momo/Documents/anaconda3/lib/python3.7/site-packages (from oauth2client>=4.0.0->pydrive->synapsesync==0.0.2) (0.4.8)\n",
      "Requirement already satisfied: pyasn1-modules>=0.0.5 in /Users/momo/Documents/anaconda3/lib/python3.7/site-packages (from oauth2client>=4.0.0->pydrive->synapsesync==0.0.2) (0.2.7)\n",
      "Requirement already satisfied: decorator>=4.3.0 in /Users/momo/Documents/anaconda3/lib/python3.7/site-packages (from networkx>=2.0->prov->synapsesync==0.0.2) (4.4.1)\n",
      "Requirement already satisfied: isodate in /Users/momo/Documents/anaconda3/lib/python3.7/site-packages (from rdflib>=4.2.1->prov->synapsesync==0.0.2) (0.6.0)\n",
      "Requirement already satisfied: pytz in /Users/momo/Documents/anaconda3/lib/python3.7/site-packages (from google-api-core<2dev,>=1.21.0->google-api-python-client>=1.2->pydrive->synapsesync==0.0.2) (2019.3)\n",
      "Requirement already satisfied: googleapis-common-protos<2.0dev,>=1.6.0 in /Users/momo/Documents/anaconda3/lib/python3.7/site-packages (from google-api-core<2dev,>=1.21.0->google-api-python-client>=1.2->pydrive->synapsesync==0.0.2) (1.52.0)\n",
      "Requirement already satisfied: setuptools>=34.0.0 in /Users/momo/Documents/anaconda3/lib/python3.7/site-packages (from google-api-core<2dev,>=1.21.0->google-api-python-client>=1.2->pydrive->synapsesync==0.0.2) (46.0.0.post20200309)\n",
      "Requirement already satisfied: protobuf>=3.12.0 in /Users/momo/Documents/anaconda3/lib/python3.7/site-packages (from google-api-core<2dev,>=1.21.0->google-api-python-client>=1.2->pydrive->synapsesync==0.0.2) (3.13.0)\n",
      "Requirement already satisfied: cachetools<5.0,>=2.0.0 in /Users/momo/Documents/anaconda3/lib/python3.7/site-packages (from google-auth>=1.16.0->google-api-python-client>=1.2->pydrive->synapsesync==0.0.2) (4.1.1)\n",
      "Building wheels for collected packages: synapsesync\n",
      "  Building wheel for synapsesync (setup.py) ... \u001b[?25ldone\n",
      "\u001b[?25h  Created wheel for synapsesync: filename=synapsesync-0.0.2-py3-none-any.whl size=9971 sha256=0c451fd9c9445decaccc161d199c288a462762e41352d862c2b6b107336f7daa\n",
      "  Stored in directory: /private/var/folders/qy/4dppq_qj1w9b44bffc62k4x00000gn/T/pip-ephem-wheel-cache-3vjd4epv/wheels/90/5e/af/8b7636a1e378ffacb84d4de23988e4dc2d34f36b57a885d766\n",
      "Successfully built synapsesync\n",
      "Note: you may need to restart the kernel to use updated packages.\n"
     ]
    }
   ],
   "source": [
    "pip install  git+https://github.com/zdk123/SynapseSync  "
   ]
  },
  {
   "cell_type": "code",
   "execution_count": 20,
   "metadata": {},
   "outputs": [
    {
     "ename": "ModuleNotFoundError",
     "evalue": "No module named 'synapseclient.exceptions'",
     "output_type": "error",
     "traceback": [
      "\u001b[0;31m---------------------------------------------------------------------------\u001b[0m",
      "\u001b[0;31mModuleNotFoundError\u001b[0m                       Traceback (most recent call last)",
      "\u001b[0;32m<ipython-input-20-323578d9ee26>\u001b[0m in \u001b[0;36m<module>\u001b[0;34m\u001b[0m\n\u001b[0;32m----> 1\u001b[0;31m \u001b[0;32mimport\u001b[0m \u001b[0msynapsesync\u001b[0m\u001b[0;34m\u001b[0m\u001b[0;34m\u001b[0m\u001b[0m\n\u001b[0m",
      "\u001b[0;32m~/Documents/anaconda3/lib/python3.7/site-packages/synapsesync/__init__.py\u001b[0m in \u001b[0;36m<module>\u001b[0;34m\u001b[0m\n\u001b[1;32m      2\u001b[0m \u001b[0;32mfrom\u001b[0m \u001b[0;34m.\u001b[0m\u001b[0mgdrivesession\u001b[0m \u001b[0;32mimport\u001b[0m \u001b[0mGDriveSession\u001b[0m\u001b[0;34m\u001b[0m\u001b[0;34m\u001b[0m\u001b[0m\n\u001b[1;32m      3\u001b[0m \u001b[0;32mfrom\u001b[0m \u001b[0;34m.\u001b[0m\u001b[0mprojectprov\u001b[0m \u001b[0;32mimport\u001b[0m \u001b[0mProvProject\u001b[0m\u001b[0;34m\u001b[0m\u001b[0;34m\u001b[0m\u001b[0m\n\u001b[0;32m----> 4\u001b[0;31m \u001b[0;32mfrom\u001b[0m \u001b[0;34m.\u001b[0m\u001b[0msynapseproject\u001b[0m \u001b[0;32mimport\u001b[0m \u001b[0mSynpaseProject\u001b[0m\u001b[0;34m\u001b[0m\u001b[0;34m\u001b[0m\u001b[0m\n\u001b[0m",
      "\u001b[0;32m~/Documents/anaconda3/lib/python3.7/site-packages/synapsesync/synapseproject.py\u001b[0m in \u001b[0;36m<module>\u001b[0;34m\u001b[0m\n\u001b[1;32m      3\u001b[0m \u001b[0;32mfrom\u001b[0m \u001b[0msynapseclient\u001b[0m \u001b[0;32mimport\u001b[0m \u001b[0mSynapse\u001b[0m\u001b[0;34m,\u001b[0m \u001b[0mEntity\u001b[0m\u001b[0;34m,\u001b[0m \u001b[0mProject\u001b[0m\u001b[0;34m,\u001b[0m \u001b[0mFolder\u001b[0m\u001b[0;34m,\u001b[0m \u001b[0mFile\u001b[0m\u001b[0;34m,\u001b[0m \u001b[0mLink\u001b[0m\u001b[0;34m\u001b[0m\u001b[0;34m\u001b[0m\u001b[0m\n\u001b[1;32m      4\u001b[0m \u001b[0;32mfrom\u001b[0m \u001b[0msynapseclient\u001b[0m \u001b[0;32mimport\u001b[0m \u001b[0mActivity\u001b[0m\u001b[0;34m\u001b[0m\u001b[0;34m\u001b[0m\u001b[0m\n\u001b[0;32m----> 5\u001b[0;31m \u001b[0;32mfrom\u001b[0m \u001b[0msynapseclient\u001b[0m\u001b[0;34m.\u001b[0m\u001b[0mexceptions\u001b[0m \u001b[0;32mimport\u001b[0m \u001b[0mSynapseHTTPError\u001b[0m\u001b[0;34m\u001b[0m\u001b[0;34m\u001b[0m\u001b[0m\n\u001b[0m\u001b[1;32m      6\u001b[0m \u001b[0;32mfrom\u001b[0m \u001b[0mtyping\u001b[0m \u001b[0;32mimport\u001b[0m \u001b[0mSet\u001b[0m\u001b[0;34m,\u001b[0m \u001b[0mList\u001b[0m\u001b[0;34m,\u001b[0m \u001b[0mDict\u001b[0m\u001b[0;34m,\u001b[0m \u001b[0mTuple\u001b[0m\u001b[0;34m,\u001b[0m \u001b[0mSequence\u001b[0m\u001b[0;34m,\u001b[0m \u001b[0mUnion\u001b[0m\u001b[0;34m,\u001b[0m \u001b[0mType\u001b[0m\u001b[0;34m\u001b[0m\u001b[0;34m\u001b[0m\u001b[0m\n\u001b[1;32m      7\u001b[0m \u001b[0;32mfrom\u001b[0m \u001b[0mrequests\u001b[0m \u001b[0;32mimport\u001b[0m \u001b[0mSession\u001b[0m\u001b[0;34m\u001b[0m\u001b[0;34m\u001b[0m\u001b[0m\n",
      "\u001b[0;31mModuleNotFoundError\u001b[0m: No module named 'synapseclient.exceptions'"
     ]
    }
   ],
   "source": [
    "import synapsesync\n"
   ]
  },
  {
   "cell_type": "code",
   "execution_count": null,
   "metadata": {},
   "outputs": [
    {
     "name": "stdout",
     "output_type": "stream",
     "text": [
      "Collecting package metadata (current_repodata.json): done\n",
      "Solving environment: done\n"
     ]
    }
   ],
   "source": [
    "conda install -c conda-forge google-api-core \n",
    "from synapseclient.exceptions import SynapseHTTPError"
   ]
  },
  {
   "cell_type": "markdown",
   "metadata": {},
   "source": [
    "## Wiki page ids \n",
    "I have a main wiki for project and subwikis for \n",
    "\n",
    "I also have folder wikis \n",
    "\n",
    "How do i maintain this info sync from local to synapse like from Python client or CLI ?"
   ]
  },
  {
   "cell_type": "code",
   "execution_count": 9,
   "metadata": {},
   "outputs": [
    {
     "data": {
      "text/plain": [
       "{'markdown': 'Testing',\n",
       " 'id': '606800',\n",
       " 'etag': 'a8677840-873a-4b13-8962-d381d78877cd',\n",
       " 'createdOn': '2020-10-31T01:41:53.550Z',\n",
       " 'createdBy': '3389615',\n",
       " 'modifiedOn': '2020-10-31T01:41:58.089Z',\n",
       " 'modifiedBy': '3389615',\n",
       " 'title': '',\n",
       " 'markdownFileHandleId': '68019568',\n",
       " 'attachmentFileHandleIds': [],\n",
       " 'ownerId': 'syn23532058',\n",
       " 'markdown_path': '/Users/momo/SynapseDOwnloads/568/68019568/68019568.md'}"
      ]
     },
     "execution_count": 9,
     "metadata": {},
     "output_type": "execute_result"
    }
   ],
   "source": [
    "##Project settings type: type of setting. Choose from: {‘upload’, ‘external_sync’, ‘requester_pays’}\n",
    "#project id ki main wiki does not show up with any name but subwikis we do have names  \n",
    "entity = syn.get('syn23532058')\n",
    "wiki = syn.getWiki(entity)\n",
    "wiki"
   ]
  },
  {
   "cell_type": "code",
   "execution_count": 11,
   "metadata": {},
   "outputs": [
    {
     "data": {
      "text/plain": [
       "[{'id': '606800', 'title': ''},\n",
       " {'id': '606801', 'title': 'TestWiki1', 'parentId': '606800'},\n",
       " {'id': '606802', 'title': 'TestWiki2', 'parentId': '606800'}]"
      ]
     },
     "execution_count": 11,
     "metadata": {},
     "output_type": "execute_result"
    }
   ],
   "source": [
    "#giving the list of all wiki subpages for a project but not subfloders \n",
    "syn.getWikiHeaders('syn23532058')"
   ]
  },
  {
   "cell_type": "code",
   "execution_count": 12,
   "metadata": {},
   "outputs": [
    {
     "data": {
      "text/plain": [
       "{'totalNumberOfResults': 3,\n",
       " 'results': [{'id': '606800', 'title': ''},\n",
       "  {'id': '606801', 'title': 'TestWiki1', 'parentId': '606800'},\n",
       "  {'id': '606802', 'title': 'TestWiki2', 'parentId': '606800'}]}"
      ]
     },
     "execution_count": 12,
     "metadata": {},
     "output_type": "execute_result"
    }
   ],
   "source": [
    "#The wiki order hint is optional, as suggested by the word \"hint\". \n",
    "#For example I made a project and gave its root wiki page two subpages. I can retrieve the three pages:\n",
    "#teh main wiki page does not have name it always is results with an id \n",
    "syn.restGET(\"/entity/syn23532058/wikiheadertree\")"
   ]
  },
  {
   "cell_type": "code",
   "execution_count": null,
   "metadata": {},
   "outputs": [],
   "source": [
    "#Wiki2orderhint: how to use it for organziaing "
   ]
  },
  {
   "cell_type": "markdown",
   "metadata": {},
   "source": [
    "## How to cahnge WikiOrder\n"
   ]
  },
  {
   "cell_type": "code",
   "execution_count": 13,
   "metadata": {},
   "outputs": [
    {
     "data": {
      "text/plain": [
       "{'ownerId': '23532058',\n",
       " 'ownerObjectType': 'ENTITY',\n",
       " 'etag': '452846ce-3e6e-4dfe-9040-3822393373fc'}"
      ]
     },
     "execution_count": 13,
     "metadata": {},
     "output_type": "execute_result"
    }
   ],
   "source": [
    "syn.restGET(\"/entity/syn23532058/wiki2orderhint\")"
   ]
  },
  {
   "cell_type": "code",
   "execution_count": 78,
   "metadata": {},
   "outputs": [],
   "source": [
    "#to modify each wikipage \n",
    "#PUT /entity/{ownerId}/wiki/{wikiId}"
   ]
  },
  {
   "cell_type": "code",
   "execution_count": 79,
   "metadata": {},
   "outputs": [],
   "source": [
    "\n",
    "#parentWikiId"
   ]
  },
  {
   "cell_type": "code",
   "execution_count": null,
   "metadata": {},
   "outputs": [],
   "source": []
  },
  {
   "cell_type": "code",
   "execution_count": null,
   "metadata": {},
   "outputs": [],
   "source": [
    "#projWiki = Wiki(title='Data Summary', owner = myProj)\n",
    "#markdownText = '''* Cell growth look normally distributed. There is evidence of inverse growth between these two cell lines '''\n",
    "#projWiki['markdown'] = markdownText\n",
    "#projWiki = syn.store(projWiki)"
   ]
  },
  {
   "cell_type": "code",
   "execution_count": null,
   "metadata": {},
   "outputs": [],
   "source": []
  },
  {
   "cell_type": "code",
   "execution_count": null,
   "metadata": {},
   "outputs": [],
   "source": []
  },
  {
   "cell_type": "code",
   "execution_count": null,
   "metadata": {},
   "outputs": [],
   "source": [
    "#restPUT(uri, body=None, endpoint=None, headers=None, retryPolicy={}, requests_session=None, **kwargs)"
   ]
  },
  {
   "cell_type": "code",
   "execution_count": 24,
   "metadata": {},
   "outputs": [
    {
     "ename": "SynapseHTTPError",
     "evalue": "404 Client Error: \nEntity syn23531433 is in trash can.",
     "output_type": "error",
     "traceback": [
      "\u001b[0;31m---------------------------------------------------------------------------\u001b[0m",
      "\u001b[0;31mSynapseHTTPError\u001b[0m                          Traceback (most recent call last)",
      "\u001b[0;32m<ipython-input-24-d58ecd50507b>\u001b[0m in \u001b[0;36m<module>\u001b[0;34m\u001b[0m\n\u001b[0;32m----> 1\u001b[0;31m \u001b[0mannos\u001b[0m \u001b[0;34m=\u001b[0m \u001b[0msyn\u001b[0m\u001b[0;34m.\u001b[0m\u001b[0mget_annotations\u001b[0m\u001b[0;34m(\u001b[0m\u001b[0;34m'syn23531433'\u001b[0m\u001b[0;34m)\u001b[0m\u001b[0;34m\u001b[0m\u001b[0;34m\u001b[0m\u001b[0m\n\u001b[0m\u001b[1;32m      2\u001b[0m \u001b[0mannos\u001b[0m\u001b[0;34m\u001b[0m\u001b[0;34m\u001b[0m\u001b[0m\n",
      "\u001b[0;32m~/Documents/anaconda3/lib/python3.7/site-packages/synapseclient/client.py\u001b[0m in \u001b[0;36mget_annotations\u001b[0;34m(self, entity, version)\u001b[0m\n\u001b[1;32m   1320\u001b[0m         \u001b[0;34m:\u001b[0m\u001b[0mrtype\u001b[0m\u001b[0;34m:\u001b[0m \u001b[0;34m:\u001b[0m\u001b[0mpy\u001b[0m\u001b[0;34m:\u001b[0m\u001b[0;32mclass\u001b[0m\u001b[0;34m:\u001b[0m\u001b[0;31m`\u001b[0m\u001b[0msynapseclient\u001b[0m\u001b[0;34m.\u001b[0m\u001b[0mannotations\u001b[0m\u001b[0;34m.\u001b[0m\u001b[0mAnnotations\u001b[0m\u001b[0;31m`\u001b[0m\u001b[0;34m\u001b[0m\u001b[0;34m\u001b[0m\u001b[0m\n\u001b[1;32m   1321\u001b[0m         \"\"\"\n\u001b[0;32m-> 1322\u001b[0;31m         \u001b[0;32mreturn\u001b[0m \u001b[0mfrom_synapse_annotations\u001b[0m\u001b[0;34m(\u001b[0m\u001b[0mself\u001b[0m\u001b[0;34m.\u001b[0m\u001b[0m_getRawAnnotations\u001b[0m\u001b[0;34m(\u001b[0m\u001b[0mentity\u001b[0m\u001b[0;34m,\u001b[0m \u001b[0mversion\u001b[0m\u001b[0;34m)\u001b[0m\u001b[0;34m)\u001b[0m\u001b[0;34m\u001b[0m\u001b[0;34m\u001b[0m\u001b[0m\n\u001b[0m\u001b[1;32m   1323\u001b[0m \u001b[0;34m\u001b[0m\u001b[0m\n\u001b[1;32m   1324\u001b[0m     @deprecated.sphinx.deprecated(version='2.1.0', reason='deprecated and replaced with :py:meth:`set_annotations` '\n",
      "\u001b[0;32m~/Documents/anaconda3/lib/python3.7/site-packages/synapseclient/client.py\u001b[0m in \u001b[0;36m_getRawAnnotations\u001b[0;34m(self, entity, version)\u001b[0m\n\u001b[1;32m   1300\u001b[0m         \u001b[0;32melse\u001b[0m\u001b[0;34m:\u001b[0m\u001b[0;34m\u001b[0m\u001b[0;34m\u001b[0m\u001b[0m\n\u001b[1;32m   1301\u001b[0m             \u001b[0muri\u001b[0m \u001b[0;34m=\u001b[0m \u001b[0;34mf'/entity/{id_of(entity)}/annotations2'\u001b[0m\u001b[0;34m\u001b[0m\u001b[0;34m\u001b[0m\u001b[0m\n\u001b[0;32m-> 1302\u001b[0;31m         \u001b[0;32mreturn\u001b[0m \u001b[0mself\u001b[0m\u001b[0;34m.\u001b[0m\u001b[0mrestGET\u001b[0m\u001b[0;34m(\u001b[0m\u001b[0muri\u001b[0m\u001b[0;34m)\u001b[0m\u001b[0;34m\u001b[0m\u001b[0;34m\u001b[0m\u001b[0m\n\u001b[0m\u001b[1;32m   1303\u001b[0m \u001b[0;34m\u001b[0m\u001b[0m\n\u001b[1;32m   1304\u001b[0m     \u001b[0;34m@\u001b[0m\u001b[0mdeprecated\u001b[0m\u001b[0;34m.\u001b[0m\u001b[0msphinx\u001b[0m\u001b[0;34m.\u001b[0m\u001b[0mdeprecated\u001b[0m\u001b[0;34m(\u001b[0m\u001b[0mversion\u001b[0m\u001b[0;34m=\u001b[0m\u001b[0;34m'2.1.0'\u001b[0m\u001b[0;34m,\u001b[0m \u001b[0mreason\u001b[0m\u001b[0;34m=\u001b[0m\u001b[0;34m'deprecated and replaced with :py:meth:`get_annotations`'\u001b[0m\u001b[0;34m)\u001b[0m\u001b[0;34m\u001b[0m\u001b[0;34m\u001b[0m\u001b[0m\n",
      "\u001b[0;32m~/Documents/anaconda3/lib/python3.7/site-packages/synapseclient/client.py\u001b[0m in \u001b[0;36mrestGET\u001b[0;34m(self, uri, endpoint, headers, retryPolicy, requests_session, **kwargs)\u001b[0m\n\u001b[1;32m   3777\u001b[0m         \u001b[0;34m:\u001b[0m\u001b[0mreturns\u001b[0m\u001b[0;34m:\u001b[0m \u001b[0mJSON\u001b[0m \u001b[0mencoding\u001b[0m \u001b[0mof\u001b[0m \u001b[0mresponse\u001b[0m\u001b[0;34m\u001b[0m\u001b[0;34m\u001b[0m\u001b[0m\n\u001b[1;32m   3778\u001b[0m         \"\"\"\n\u001b[0;32m-> 3779\u001b[0;31m         \u001b[0mresponse\u001b[0m \u001b[0;34m=\u001b[0m \u001b[0mself\u001b[0m\u001b[0;34m.\u001b[0m\u001b[0m_rest_call\u001b[0m\u001b[0;34m(\u001b[0m\u001b[0;34m'get'\u001b[0m\u001b[0;34m,\u001b[0m \u001b[0muri\u001b[0m\u001b[0;34m,\u001b[0m \u001b[0;32mNone\u001b[0m\u001b[0;34m,\u001b[0m \u001b[0mendpoint\u001b[0m\u001b[0;34m,\u001b[0m \u001b[0mheaders\u001b[0m\u001b[0;34m,\u001b[0m \u001b[0mretryPolicy\u001b[0m\u001b[0;34m,\u001b[0m \u001b[0mrequests_session\u001b[0m\u001b[0;34m,\u001b[0m \u001b[0;34m**\u001b[0m\u001b[0mkwargs\u001b[0m\u001b[0;34m)\u001b[0m\u001b[0;34m\u001b[0m\u001b[0;34m\u001b[0m\u001b[0m\n\u001b[0m\u001b[1;32m   3780\u001b[0m         \u001b[0;32mreturn\u001b[0m \u001b[0mself\u001b[0m\u001b[0;34m.\u001b[0m\u001b[0m_return_rest_body\u001b[0m\u001b[0;34m(\u001b[0m\u001b[0mresponse\u001b[0m\u001b[0;34m)\u001b[0m\u001b[0;34m\u001b[0m\u001b[0;34m\u001b[0m\u001b[0m\n\u001b[1;32m   3781\u001b[0m \u001b[0;34m\u001b[0m\u001b[0m\n",
      "\u001b[0;32m~/Documents/anaconda3/lib/python3.7/site-packages/synapseclient/client.py\u001b[0m in \u001b[0;36m_rest_call\u001b[0;34m(self, method, uri, data, endpoint, headers, retryPolicy, requests_session, **kwargs)\u001b[0m\n\u001b[1;32m   3761\u001b[0m         response = with_retry(lambda: requests_method_fn(uri, data=data, headers=headers, **kwargs),\n\u001b[1;32m   3762\u001b[0m                               verbose=self.debug, **retryPolicy)\n\u001b[0;32m-> 3763\u001b[0;31m         \u001b[0mself\u001b[0m\u001b[0;34m.\u001b[0m\u001b[0m_handle_synapse_http_error\u001b[0m\u001b[0;34m(\u001b[0m\u001b[0mresponse\u001b[0m\u001b[0;34m)\u001b[0m\u001b[0;34m\u001b[0m\u001b[0;34m\u001b[0m\u001b[0m\n\u001b[0m\u001b[1;32m   3764\u001b[0m         \u001b[0;32mreturn\u001b[0m \u001b[0mresponse\u001b[0m\u001b[0;34m\u001b[0m\u001b[0;34m\u001b[0m\u001b[0m\n\u001b[1;32m   3765\u001b[0m \u001b[0;34m\u001b[0m\u001b[0m\n",
      "\u001b[0;32m~/Documents/anaconda3/lib/python3.7/site-packages/synapseclient/client.py\u001b[0m in \u001b[0;36m_handle_synapse_http_error\u001b[0;34m(self, response)\u001b[0m\n\u001b[1;32m   3740\u001b[0m \u001b[0;34m\u001b[0m\u001b[0m\n\u001b[1;32m   3741\u001b[0m         \u001b[0;32mtry\u001b[0m\u001b[0;34m:\u001b[0m\u001b[0;34m\u001b[0m\u001b[0;34m\u001b[0m\u001b[0m\n\u001b[0;32m-> 3742\u001b[0;31m             \u001b[0mexceptions\u001b[0m\u001b[0;34m.\u001b[0m\u001b[0m_raise_for_status\u001b[0m\u001b[0;34m(\u001b[0m\u001b[0mresponse\u001b[0m\u001b[0;34m,\u001b[0m \u001b[0mverbose\u001b[0m\u001b[0;34m=\u001b[0m\u001b[0mself\u001b[0m\u001b[0;34m.\u001b[0m\u001b[0mdebug\u001b[0m\u001b[0;34m)\u001b[0m\u001b[0;34m\u001b[0m\u001b[0;34m\u001b[0m\u001b[0m\n\u001b[0m\u001b[1;32m   3743\u001b[0m         \u001b[0;32mexcept\u001b[0m \u001b[0mexceptions\u001b[0m\u001b[0;34m.\u001b[0m\u001b[0mSynapseHTTPError\u001b[0m \u001b[0;32mas\u001b[0m \u001b[0mex\u001b[0m\u001b[0;34m:\u001b[0m\u001b[0;34m\u001b[0m\u001b[0;34m\u001b[0m\u001b[0m\n\u001b[1;32m   3744\u001b[0m             \u001b[0;31m# if we get a unauthenticated or forbidden error and the user is not logged in\u001b[0m\u001b[0;34m\u001b[0m\u001b[0;34m\u001b[0m\u001b[0;34m\u001b[0m\u001b[0m\n",
      "\u001b[0;32m~/Documents/anaconda3/lib/python3.7/site-packages/synapseclient/core/exceptions.py\u001b[0m in \u001b[0;36m_raise_for_status\u001b[0;34m(response, verbose)\u001b[0m\n\u001b[1;32m    158\u001b[0m                 \u001b[0mmessage\u001b[0m \u001b[0;34m+=\u001b[0m \u001b[0;34m\"\\nCould not append all response info\"\u001b[0m\u001b[0;34m\u001b[0m\u001b[0;34m\u001b[0m\u001b[0m\n\u001b[1;32m    159\u001b[0m \u001b[0;34m\u001b[0m\u001b[0m\n\u001b[0;32m--> 160\u001b[0;31m         \u001b[0;32mraise\u001b[0m \u001b[0mSynapseHTTPError\u001b[0m\u001b[0;34m(\u001b[0m\u001b[0mmessage\u001b[0m\u001b[0;34m,\u001b[0m \u001b[0mresponse\u001b[0m\u001b[0;34m=\u001b[0m\u001b[0mresponse\u001b[0m\u001b[0;34m)\u001b[0m\u001b[0;34m\u001b[0m\u001b[0;34m\u001b[0m\u001b[0m\n\u001b[0m",
      "\u001b[0;31mSynapseHTTPError\u001b[0m: 404 Client Error: \nEntity syn23531433 is in trash can."
     ]
    }
   ],
   "source": [
    "annos = syn.get_annotations('syn23531433')\n",
    "annos"
   ]
  },
  {
   "cell_type": "code",
   "execution_count": 27,
   "metadata": {},
   "outputs": [
    {
     "ename": "NameError",
     "evalue": "name 'syn23532058' is not defined",
     "output_type": "error",
     "traceback": [
      "\u001b[0;31m---------------------------------------------------------------------------\u001b[0m",
      "\u001b[0;31mNameError\u001b[0m                                 Traceback (most recent call last)",
      "\u001b[0;32m<ipython-input-27-b07daf4bf699>\u001b[0m in \u001b[0;36m<module>\u001b[0;34m\u001b[0m\n\u001b[0;32m----> 1\u001b[0;31m \u001b[0msynapseutils\u001b[0m\u001b[0;34m.\u001b[0m\u001b[0mwalk\u001b[0m\u001b[0;34m(\u001b[0m\u001b[0msyn\u001b[0m\u001b[0;34m,\u001b[0m \u001b[0msyn23532058\u001b[0m\u001b[0;34m)\u001b[0m\u001b[0;34m\u001b[0m\u001b[0;34m\u001b[0m\u001b[0m\n\u001b[0m",
      "\u001b[0;31mNameError\u001b[0m: name 'syn23532058' is not defined"
     ]
    }
   ],
   "source": [
    "synapseutils.walk(syn, syn23532058)"
   ]
  },
  {
   "cell_type": "code",
   "execution_count": 31,
   "metadata": {},
   "outputs": [],
   "source": [
    "walkedPath = synapseutils.walk(syn, \"syn23532058\")"
   ]
  },
  {
   "cell_type": "code",
   "execution_count": 32,
   "metadata": {},
   "outputs": [
    {
     "data": {
      "text/plain": [
       "<generator object _helpWalk at 0x10e3d28d0>"
      ]
     },
     "execution_count": 32,
     "metadata": {},
     "output_type": "execute_result"
    }
   ],
   "source": [
    "walkedPath"
   ]
  },
  {
   "cell_type": "code",
   "execution_count": 33,
   "metadata": {},
   "outputs": [
    {
     "ename": "NameError",
     "evalue": "name 'allFiles' is not defined",
     "output_type": "error",
     "traceback": [
      "\u001b[0;31m---------------------------------------------------------------------------\u001b[0m",
      "\u001b[0;31mNameError\u001b[0m                                 Traceback (most recent call last)",
      "\u001b[0;32m<ipython-input-33-1e50c3ed7390>\u001b[0m in \u001b[0;36m<module>\u001b[0;34m\u001b[0m\n\u001b[0;32m----> 1\u001b[0;31m \u001b[0msynapseutils\u001b[0m\u001b[0;34m.\u001b[0m\u001b[0msync\u001b[0m\u001b[0;34m.\u001b[0m\u001b[0mgenerateManifest\u001b[0m\u001b[0;34m(\u001b[0m\u001b[0msyn\u001b[0m\u001b[0;34m,\u001b[0m \u001b[0mallFiles\u001b[0m\u001b[0;34m,\u001b[0m \u001b[0mfilename\u001b[0m\u001b[0;34m,\u001b[0m \u001b[0mprovenance_cache\u001b[0m\u001b[0;34m=\u001b[0m\u001b[0;32mNone\u001b[0m\u001b[0;34m)\u001b[0m\u001b[0;34m\u001b[0m\u001b[0;34m\u001b[0m\u001b[0m\n\u001b[0m",
      "\u001b[0;31mNameError\u001b[0m: name 'allFiles' is not defined"
     ]
    }
   ],
   "source": [
    "synapseutils.sync.generateManifest(syn, allFiles, filename, provenance_cache=None)"
   ]
  },
  {
   "cell_type": "code",
   "execution_count": 34,
   "metadata": {},
   "outputs": [
    {
     "ename": "NameError",
     "evalue": "name 'syncFromSynapse' is not defined",
     "output_type": "error",
     "traceback": [
      "\u001b[0;31m---------------------------------------------------------------------------\u001b[0m",
      "\u001b[0;31mNameError\u001b[0m                                 Traceback (most recent call last)",
      "\u001b[0;32m<ipython-input-34-1a5d28b49726>\u001b[0m in \u001b[0;36m<module>\u001b[0;34m\u001b[0m\n\u001b[0;32m----> 1\u001b[0;31m \u001b[0mentities\u001b[0m \u001b[0;34m=\u001b[0m \u001b[0msyncFromSynapse\u001b[0m\u001b[0;34m(\u001b[0m\u001b[0msyn\u001b[0m\u001b[0;34m,\u001b[0m \u001b[0;34m\"syn23532058\"\u001b[0m\u001b[0;34m)\u001b[0m\u001b[0;34m\u001b[0m\u001b[0;34m\u001b[0m\u001b[0m\n\u001b[0m\u001b[1;32m      2\u001b[0m \u001b[0;32mfor\u001b[0m \u001b[0mf\u001b[0m \u001b[0;32min\u001b[0m \u001b[0mentities\u001b[0m\u001b[0;34m:\u001b[0m\u001b[0;34m\u001b[0m\u001b[0;34m\u001b[0m\u001b[0m\n\u001b[1;32m      3\u001b[0m     \u001b[0mprint\u001b[0m\u001b[0;34m(\u001b[0m\u001b[0mf\u001b[0m\u001b[0;34m.\u001b[0m\u001b[0mpath\u001b[0m\u001b[0;34m)\u001b[0m\u001b[0;34m\u001b[0m\u001b[0;34m\u001b[0m\u001b[0m\n",
      "\u001b[0;31mNameError\u001b[0m: name 'syncFromSynapse' is not defined"
     ]
    }
   ],
   "source": [
    "entities = syncFromSynapse(syn, \"syn23532058\")\n",
    "for f in entities:\n",
    "    print(f.path)"
   ]
  },
  {
   "cell_type": "markdown",
   "metadata": {},
   "source": [
    "### Add a local file to an existing project folder  (syn12345) on Synapse"
   ]
  },
  {
   "cell_type": "code",
   "execution_count": 45,
   "metadata": {},
   "outputs": [
    {
     "name": "stdout",
     "output_type": "stream",
     "text": [
      "\n",
      "##################################################\n",
      " Uploading file to Synapse storage \n",
      "##################################################\n",
      "\n"
     ]
    }
   ],
   "source": [
    "file = File(path='/Users/siddia/Desktop/untitled folder 2/SL_ImmGroupMeeting_20201022.pptx', parent='syn22415767')\n",
    "file = syn.store(file)"
   ]
  },
  {
   "cell_type": "markdown",
   "metadata": {},
   "source": [
    "## Move the files to other synapse folders\n"
   ]
  },
  {
   "cell_type": "code",
   "execution_count": null,
   "metadata": {},
   "outputs": [],
   "source": []
  },
  {
   "cell_type": "code",
   "execution_count": null,
   "metadata": {},
   "outputs": [],
   "source": []
  },
  {
   "cell_type": "code",
   "execution_count": null,
   "metadata": {},
   "outputs": [],
   "source": []
  },
  {
   "cell_type": "code",
   "execution_count": null,
   "metadata": {},
   "outputs": [],
   "source": []
  },
  {
   "cell_type": "code",
   "execution_count": null,
   "metadata": {},
   "outputs": [],
   "source": []
  },
  {
   "cell_type": "markdown",
   "metadata": {},
   "source": [
    "### Get the folder entities "
   ]
  },
  {
   "cell_type": "code",
   "execution_count": 20,
   "metadata": {},
   "outputs": [
    {
     "ename": "NameError",
     "evalue": "name 'getChildren' is not defined",
     "output_type": "error",
     "traceback": [
      "\u001b[0;31m---------------------------------------------------------------------------\u001b[0m",
      "\u001b[0;31mNameError\u001b[0m                                 Traceback (most recent call last)",
      "\u001b[0;32m<ipython-input-20-7f844d76cce9>\u001b[0m in \u001b[0;36m<module>\u001b[0;34m\u001b[0m\n\u001b[0;32m----> 1\u001b[0;31m \u001b[0mgetChildren\u001b[0m\u001b[0;34m(\u001b[0m\u001b[0;34m\"syn23516910\"\u001b[0m\u001b[0;34m)\u001b[0m\u001b[0;34m\u001b[0m\u001b[0;34m\u001b[0m\u001b[0m\n\u001b[0m",
      "\u001b[0;31mNameError\u001b[0m: name 'getChildren' is not defined"
     ]
    }
   ],
   "source": [
    "getChildren(\"syn23516910\")"
   ]
  },
  {
   "cell_type": "code",
   "execution_count": null,
   "metadata": {},
   "outputs": [],
   "source": []
  },
  {
   "cell_type": "markdown",
   "metadata": {},
   "source": [
    "### Downloading data from synapse if you want a version just add it there \n"
   ]
  },
  {
   "cell_type": "code",
   "execution_count": 42,
   "metadata": {},
   "outputs": [],
   "source": [
    "#entity = syn.get(\"syn22427974\")#, version=1)\n",
    "#For the Python and R clients the default download location is the Synapse cache. \n",
    "#check the path of downloaded file using\n",
    "#filepath = entity.path\n",
    "#filepath "
   ]
  },
  {
   "cell_type": "code",
   "execution_count": 41,
   "metadata": {},
   "outputs": [],
   "source": [
    "entity = syn.get(\"syn3158111\", downloadLocation=\"/Users/siddia/Desktop/untitled folder 2\")"
   ]
  },
  {
   "cell_type": "markdown",
   "metadata": {},
   "source": [
    "### Deleting a specific version from synapse "
   ]
  },
  {
   "cell_type": "code",
   "execution_count": 44,
   "metadata": {},
   "outputs": [],
   "source": [
    "#entity = syn.delete(\"syn56789\", version=1)"
   ]
  },
  {
   "cell_type": "markdown",
   "metadata": {},
   "source": [
    "## Recursive Downloads\n",
    "##### The folder structure that is present on Synapse can be maintained by recursive downloading."
   ]
  },
  {
   "cell_type": "code",
   "execution_count": 7,
   "metadata": {},
   "outputs": [],
   "source": [
    "#files = synapseutils.syncFromSynapse(syn, 'syn22352649')"
   ]
  },
  {
   "cell_type": "code",
   "execution_count": 65,
   "metadata": {},
   "outputs": [],
   "source": [
    "linkEnt = syn.get(\"syn22352652\")"
   ]
  },
  {
   "cell_type": "code",
   "execution_count": 66,
   "metadata": {},
   "outputs": [
    {
     "data": {
      "text/plain": [
       "File(path='/Users/siddia/.synapseCache/813/64635813/Screen Shot 2020-09-07 at 10.11.25 PM.png', files=['Screen Shot 2020-09-07 at 10.11.25 PM.png'], modifiedOn='2020-09-09T16:42:19.896Z', modifiedBy='3389615', cacheDir='/Users/siddia/.synapseCache/813/64635813', createdBy='3389615', concreteType='org.sagebionetworks.repo.model.FileEntity', name='Screen Shot 2020-09-07 at 10.11.25 PM.png', _file_handle={'id': '64635813', 'etag': 'a712ffd4-85b2-46ab-b471-6baf8f553721', 'createdBy': '3389615', 'createdOn': '2020-09-09T16:42:19.000Z', 'concreteType': 'org.sagebionetworks.repo.model.file.S3FileHandle', 'contentType': 'image/png', 'contentMd5': '5a1ac79e2dd5d6f88c5441eda49db7a3', 'fileName': 'Screen Shot 2020-09-07 at 10.11.25 PM.png', 'storageLocationId': 1, 'contentSize': 417151, 'bucketName': 'proddata.sagebase.org', 'key': '3389615/53370f4d-cf75-471c-a9ee-f5f1a54df8cf/Screen Shot 2020-09-07 at 10.11.25 PM.png', 'isPreview': False, 'externalURL': None}, createdOn='2020-09-09T16:42:19.896Z', versionNumber=1, dataFileHandleId='64635813', etag='2d41e1bb-df13-4ce9-96ce-5ce3f447f88c', parentId='syn22352649', synapseStore=True, id='syn22352652', versionLabel='1')"
      ]
     },
     "execution_count": 66,
     "metadata": {},
     "output_type": "execute_result"
    }
   ],
   "source": [
    "linkEnt"
   ]
  },
  {
   "cell_type": "code",
   "execution_count": 64,
   "metadata": {},
   "outputs": [
    {
     "data": {
      "text/plain": [
       "File(path='/Users/siddia/.synapseCache/813/64635813/Screen Shot 2020-09-07 at 10.11.25 PM.png', files=['Screen Shot 2020-09-07 at 10.11.25 PM.png'], modifiedOn='2020-09-09T16:42:19.896Z', modifiedBy='3389615', cacheDir='/Users/siddia/.synapseCache/813/64635813', createdBy='3389615', concreteType='org.sagebionetworks.repo.model.FileEntity', name='Screen Shot 2020-09-07 at 10.11.25 PM.png', _file_handle={'id': '64635813', 'etag': 'a712ffd4-85b2-46ab-b471-6baf8f553721', 'createdBy': '3389615', 'createdOn': '2020-09-09T16:42:19.000Z', 'concreteType': 'org.sagebionetworks.repo.model.file.S3FileHandle', 'contentType': 'image/png', 'contentMd5': '5a1ac79e2dd5d6f88c5441eda49db7a3', 'fileName': 'Screen Shot 2020-09-07 at 10.11.25 PM.png', 'storageLocationId': 1, 'contentSize': 417151, 'bucketName': 'proddata.sagebase.org', 'key': '3389615/53370f4d-cf75-471c-a9ee-f5f1a54df8cf/Screen Shot 2020-09-07 at 10.11.25 PM.png', 'isPreview': False, 'externalURL': None}, createdOn='2020-09-09T16:42:19.896Z', versionNumber=1, dataFileHandleId='64635813', etag='2d41e1bb-df13-4ce9-96ce-5ce3f447f88c', parentId='syn22352649', synapseStore=True, id='syn22352652', versionLabel='1')"
      ]
     },
     "execution_count": 64,
     "metadata": {},
     "output_type": "execute_result"
    }
   ],
   "source": [
    "entity = syn.get(\"syn22352652\", followLink=True)\n",
    "entity "
   ]
  },
  {
   "cell_type": "markdown",
   "metadata": {},
   "source": [
    "### Downloading in Bulk\n",
    "Files can be downloaded in bulk using the syncFromSynapse function found in the synapseutils helper package. This function crawls all the subfolders of the project/folder that you specify and retrieves all the files that have not been downloaded. By default, the files will be downloaded into your synapseCache, but a different download location can be specified with the path parameter. If you do download to a location out side of synapseCache, this function will also create a tab-delimited manifest of all the files along with their metadata (path, provenance, annotations, etc).\n",
    "\n"
   ]
  },
  {
   "cell_type": "code",
   "execution_count": 19,
   "metadata": {},
   "outputs": [
    {
     "ename": "KeyboardInterrupt",
     "evalue": "",
     "output_type": "error",
     "traceback": [
      "\u001b[0;31m---------------------------------------------------------------------------\u001b[0m",
      "\u001b[0;31mKeyboardInterrupt\u001b[0m                         Traceback (most recent call last)",
      "\u001b[0;32m<ipython-input-19-0fdf3cad081c>\u001b[0m in \u001b[0;36m<module>\u001b[0;34m\u001b[0m\n\u001b[1;32m      1\u001b[0m \u001b[0;31m# download all the files in folder syn123 to a local folder called \"myFolder\"\u001b[0m\u001b[0;34m\u001b[0m\u001b[0;34m\u001b[0m\u001b[0;34m\u001b[0m\u001b[0m\n\u001b[0;32m----> 2\u001b[0;31m \u001b[0mall_files\u001b[0m \u001b[0;34m=\u001b[0m \u001b[0msynapseutils\u001b[0m\u001b[0;34m.\u001b[0m\u001b[0msyncFromSynapse\u001b[0m\u001b[0;34m(\u001b[0m\u001b[0msyn\u001b[0m\u001b[0;34m,\u001b[0m \u001b[0mentity\u001b[0m\u001b[0;34m=\u001b[0m\u001b[0;34m'syn22352649'\u001b[0m\u001b[0;34m,\u001b[0m \u001b[0mpath\u001b[0m\u001b[0;34m=\u001b[0m\u001b[0;34m'/Users/siddia/Desktop/untitled folder 2'\u001b[0m\u001b[0;34m)\u001b[0m\u001b[0;34m\u001b[0m\u001b[0;34m\u001b[0m\u001b[0m\n\u001b[0m",
      "\u001b[0;32m/opt/anaconda3/lib/python3.8/site-packages/synapseutils/sync.py\u001b[0m in \u001b[0;36msyncFromSynapse\u001b[0;34m(syn, entity, path, ifcollision, allFiles, followLink)\u001b[0m\n\u001b[1;32m     94\u001b[0m     \u001b[0;32mwith\u001b[0m \u001b[0m_sync_executor\u001b[0m\u001b[0;34m(\u001b[0m\u001b[0msyn\u001b[0m\u001b[0;34m)\u001b[0m \u001b[0;32mas\u001b[0m \u001b[0mexecutor\u001b[0m\u001b[0;34m:\u001b[0m\u001b[0;34m\u001b[0m\u001b[0;34m\u001b[0m\u001b[0m\n\u001b[1;32m     95\u001b[0m         \u001b[0msync_from_synapse\u001b[0m \u001b[0;34m=\u001b[0m \u001b[0m_SyncDownloader\u001b[0m\u001b[0;34m(\u001b[0m\u001b[0msyn\u001b[0m\u001b[0;34m,\u001b[0m \u001b[0mexecutor\u001b[0m\u001b[0;34m)\u001b[0m\u001b[0;34m\u001b[0m\u001b[0;34m\u001b[0m\u001b[0m\n\u001b[0;32m---> 96\u001b[0;31m         \u001b[0mfiles\u001b[0m \u001b[0;34m=\u001b[0m \u001b[0msync_from_synapse\u001b[0m\u001b[0;34m.\u001b[0m\u001b[0msync\u001b[0m\u001b[0;34m(\u001b[0m\u001b[0mentity\u001b[0m\u001b[0;34m,\u001b[0m \u001b[0mpath\u001b[0m\u001b[0;34m,\u001b[0m \u001b[0mifcollision\u001b[0m\u001b[0;34m,\u001b[0m \u001b[0mfollowLink\u001b[0m\u001b[0;34m)\u001b[0m\u001b[0;34m\u001b[0m\u001b[0;34m\u001b[0m\u001b[0m\n\u001b[0m\u001b[1;32m     97\u001b[0m \u001b[0;34m\u001b[0m\u001b[0m\n\u001b[1;32m     98\u001b[0m     \u001b[0;31m# the allFiles parameter used to be passed in as part of the recursive implementation of this function\u001b[0m\u001b[0;34m\u001b[0m\u001b[0;34m\u001b[0m\u001b[0;34m\u001b[0m\u001b[0m\n",
      "\u001b[0;32m/opt/anaconda3/lib/python3.8/site-packages/synapseutils/sync.py\u001b[0m in \u001b[0;36msync\u001b[0;34m(self, entity, path, ifcollision, followLink)\u001b[0m\n\u001b[1;32m    226\u001b[0m \u001b[0;34m\u001b[0m\u001b[0m\n\u001b[1;32m    227\u001b[0m         \u001b[0;32mif\u001b[0m \u001b[0mis_container\u001b[0m\u001b[0;34m(\u001b[0m\u001b[0mentity\u001b[0m\u001b[0;34m)\u001b[0m\u001b[0;34m:\u001b[0m\u001b[0;34m\u001b[0m\u001b[0;34m\u001b[0m\u001b[0m\n\u001b[0;32m--> 228\u001b[0;31m             \u001b[0mroot_folder_sync\u001b[0m \u001b[0;34m=\u001b[0m \u001b[0mself\u001b[0m\u001b[0;34m.\u001b[0m\u001b[0m_sync_root\u001b[0m\u001b[0;34m(\u001b[0m\u001b[0mentity\u001b[0m\u001b[0;34m,\u001b[0m \u001b[0mpath\u001b[0m\u001b[0;34m,\u001b[0m \u001b[0mifcollision\u001b[0m\u001b[0;34m,\u001b[0m \u001b[0mfollowLink\u001b[0m\u001b[0;34m,\u001b[0m \u001b[0mprogress\u001b[0m\u001b[0;34m)\u001b[0m\u001b[0;34m\u001b[0m\u001b[0;34m\u001b[0m\u001b[0m\n\u001b[0m\u001b[1;32m    229\u001b[0m \u001b[0;34m\u001b[0m\u001b[0m\n\u001b[1;32m    230\u001b[0m             \u001b[0;31m# once the whole folder hierarchy has been traversed this entrant thread waits for\u001b[0m\u001b[0;34m\u001b[0m\u001b[0;34m\u001b[0m\u001b[0;34m\u001b[0m\u001b[0m\n",
      "\u001b[0;32m/opt/anaconda3/lib/python3.8/site-packages/synapseutils/sync.py\u001b[0m in \u001b[0;36m_sync_root\u001b[0;34m(self, root, root_path, ifcollision, followLink, progress)\u001b[0m\n\u001b[1;32m    345\u001b[0m             \u001b[0;32melse\u001b[0m\u001b[0;34m:\u001b[0m\u001b[0;34m\u001b[0m\u001b[0;34m\u001b[0m\u001b[0m\n\u001b[1;32m    346\u001b[0m                 \u001b[0;32mfor\u001b[0m \u001b[0mchild_file_id\u001b[0m \u001b[0;32min\u001b[0m \u001b[0mchild_file_ids\u001b[0m\u001b[0;34m:\u001b[0m\u001b[0;34m\u001b[0m\u001b[0;34m\u001b[0m\u001b[0m\n\u001b[0;32m--> 347\u001b[0;31m                     \u001b[0mself\u001b[0m\u001b[0;34m.\u001b[0m\u001b[0m_file_semaphore\u001b[0m\u001b[0;34m.\u001b[0m\u001b[0macquire\u001b[0m\u001b[0;34m(\u001b[0m\u001b[0;34m)\u001b[0m\u001b[0;34m\u001b[0m\u001b[0;34m\u001b[0m\u001b[0m\n\u001b[0m\u001b[1;32m    348\u001b[0m                     self._executor.submit(\n\u001b[1;32m    349\u001b[0m                         \u001b[0mself\u001b[0m\u001b[0;34m.\u001b[0m\u001b[0m_sync_file\u001b[0m\u001b[0;34m,\u001b[0m\u001b[0;34m\u001b[0m\u001b[0;34m\u001b[0m\u001b[0m\n",
      "\u001b[0;32m/opt/anaconda3/lib/python3.8/threading.py\u001b[0m in \u001b[0;36macquire\u001b[0;34m(self, blocking, timeout)\u001b[0m\n\u001b[1;32m    431\u001b[0m                         \u001b[0;32mif\u001b[0m \u001b[0mtimeout\u001b[0m \u001b[0;34m<=\u001b[0m \u001b[0;36m0\u001b[0m\u001b[0;34m:\u001b[0m\u001b[0;34m\u001b[0m\u001b[0;34m\u001b[0m\u001b[0m\n\u001b[1;32m    432\u001b[0m                             \u001b[0;32mbreak\u001b[0m\u001b[0;34m\u001b[0m\u001b[0;34m\u001b[0m\u001b[0m\n\u001b[0;32m--> 433\u001b[0;31m                 \u001b[0mself\u001b[0m\u001b[0;34m.\u001b[0m\u001b[0m_cond\u001b[0m\u001b[0;34m.\u001b[0m\u001b[0mwait\u001b[0m\u001b[0;34m(\u001b[0m\u001b[0mtimeout\u001b[0m\u001b[0;34m)\u001b[0m\u001b[0;34m\u001b[0m\u001b[0;34m\u001b[0m\u001b[0m\n\u001b[0m\u001b[1;32m    434\u001b[0m             \u001b[0;32melse\u001b[0m\u001b[0;34m:\u001b[0m\u001b[0;34m\u001b[0m\u001b[0;34m\u001b[0m\u001b[0m\n\u001b[1;32m    435\u001b[0m                 \u001b[0mself\u001b[0m\u001b[0;34m.\u001b[0m\u001b[0m_value\u001b[0m \u001b[0;34m-=\u001b[0m \u001b[0;36m1\u001b[0m\u001b[0;34m\u001b[0m\u001b[0;34m\u001b[0m\u001b[0m\n",
      "\u001b[0;32m/opt/anaconda3/lib/python3.8/threading.py\u001b[0m in \u001b[0;36mwait\u001b[0;34m(self, timeout)\u001b[0m\n\u001b[1;32m    300\u001b[0m         \u001b[0;32mtry\u001b[0m\u001b[0;34m:\u001b[0m    \u001b[0;31m# restore state no matter what (e.g., KeyboardInterrupt)\u001b[0m\u001b[0;34m\u001b[0m\u001b[0;34m\u001b[0m\u001b[0m\n\u001b[1;32m    301\u001b[0m             \u001b[0;32mif\u001b[0m \u001b[0mtimeout\u001b[0m \u001b[0;32mis\u001b[0m \u001b[0;32mNone\u001b[0m\u001b[0;34m:\u001b[0m\u001b[0;34m\u001b[0m\u001b[0;34m\u001b[0m\u001b[0m\n\u001b[0;32m--> 302\u001b[0;31m                 \u001b[0mwaiter\u001b[0m\u001b[0;34m.\u001b[0m\u001b[0macquire\u001b[0m\u001b[0;34m(\u001b[0m\u001b[0;34m)\u001b[0m\u001b[0;34m\u001b[0m\u001b[0;34m\u001b[0m\u001b[0m\n\u001b[0m\u001b[1;32m    303\u001b[0m                 \u001b[0mgotit\u001b[0m \u001b[0;34m=\u001b[0m \u001b[0;32mTrue\u001b[0m\u001b[0;34m\u001b[0m\u001b[0;34m\u001b[0m\u001b[0m\n\u001b[1;32m    304\u001b[0m             \u001b[0;32melse\u001b[0m\u001b[0;34m:\u001b[0m\u001b[0;34m\u001b[0m\u001b[0;34m\u001b[0m\u001b[0m\n",
      "\u001b[0;31mKeyboardInterrupt\u001b[0m: "
     ]
    }
   ],
   "source": [
    "# download all the files in folder syn123 to a local folder called \"myFolder\"\n",
    "all_files = synapseutils.syncFromSynapse(syn, entity='syn22352649', path='/Users/siddia/Desktop/untitled folder 2')"
   ]
  },
  {
   "cell_type": "code",
   "execution_count": null,
   "metadata": {},
   "outputs": [],
   "source": [
    "# Download and print the paths of all downloaded files:\n",
    "\n",
    "# entities = syncFromSynapse(syn, \"syn1234\")\n",
    "# for f in entities:\n",
    "#     print(f.path)"
   ]
  },
  {
   "cell_type": "markdown",
   "metadata": {},
   "source": [
    "## Syncing project Directories from local machine to Synapse"
   ]
  },
  {
   "cell_type": "code",
   "execution_count": null,
   "metadata": {},
   "outputs": [],
   "source": [
    "synapseutils.walk.walk(syn, synId)"
   ]
  },
  {
   "cell_type": "code",
   "execution_count": null,
   "metadata": {},
   "outputs": [],
   "source": [
    "#generate a manifest file first\n",
    "\n",
    "synapseutils.sync.generateManifest(syn, allFiles, filename, provenance_cache=None)¶"
   ]
  },
  {
   "cell_type": "code",
   "execution_count": 12,
   "metadata": {},
   "outputs": [],
   "source": [
    "# Uploading Data in Bulk\n",
    "#https://docs.synapse.org/articles/uploading_in_bulk.html#uploading-data-in-bulk"
   ]
  },
  {
   "cell_type": "code",
   "execution_count": 27,
   "metadata": {},
   "outputs": [],
   "source": [
    "#created manually manifest File \n",
    "manifestFile="
   ]
  },
  {
   "cell_type": "code",
   "execution_count": 4,
   "metadata": {},
   "outputs": [
    {
     "name": "stdout",
     "output_type": "stream",
     "text": [
      "Welcome, amnah siddiqa!\n",
      "\n",
      "Validation and upload of: /Users/siddia/Desktop/data_upload_template.tsv\n"
     ]
    },
    {
     "ename": "FileNotFoundError",
     "evalue": "[Errno 2] File b'/Users/siddia/Desktop/data_upload_template.tsv' does not exist: b'/Users/siddia/Desktop/data_upload_template.tsv'",
     "output_type": "error",
     "traceback": [
      "\u001b[0;31m---------------------------------------------------------------------------\u001b[0m",
      "\u001b[0;31mFileNotFoundError\u001b[0m                         Traceback (most recent call last)",
      "\u001b[0;32m<ipython-input-4-f3352027badb>\u001b[0m in \u001b[0;36m<module>\u001b[0;34m\u001b[0m\n\u001b[1;32m      1\u001b[0m \u001b[0msyn\u001b[0m \u001b[0;34m=\u001b[0m \u001b[0msynapseclient\u001b[0m\u001b[0;34m.\u001b[0m\u001b[0mlogin\u001b[0m\u001b[0;34m(\u001b[0m\u001b[0;34m)\u001b[0m\u001b[0;34m\u001b[0m\u001b[0;34m\u001b[0m\u001b[0m\n\u001b[1;32m      2\u001b[0m \u001b[0;32mimport\u001b[0m \u001b[0mos\u001b[0m\u001b[0;34m\u001b[0m\u001b[0;34m\u001b[0m\u001b[0m\n\u001b[0;32m----> 3\u001b[0;31m \u001b[0msynapseutils\u001b[0m\u001b[0;34m.\u001b[0m\u001b[0msync\u001b[0m\u001b[0;34m.\u001b[0m\u001b[0msyncToSynapse\u001b[0m\u001b[0;34m(\u001b[0m \u001b[0msyn\u001b[0m\u001b[0;34m,\u001b[0m\u001b[0;34m\"/Users/siddia/Desktop/data_upload_template.tsv\"\u001b[0m\u001b[0;34m,\u001b[0m \u001b[0mdryRun\u001b[0m\u001b[0;34m=\u001b[0m\u001b[0;32mTrue\u001b[0m\u001b[0;34m)\u001b[0m\u001b[0;34m\u001b[0m\u001b[0;34m\u001b[0m\u001b[0m\n\u001b[0m\u001b[1;32m      4\u001b[0m  \u001b[0;31m#syncToSynapse(\"/path/to/manifest.tsv\")\u001b[0m\u001b[0;34m\u001b[0m\u001b[0;34m\u001b[0m\u001b[0;34m\u001b[0m\u001b[0m\n",
      "\u001b[0;32m~/Documents/anaconda3/lib/python3.7/site-packages/synapseutils/sync.py\u001b[0m in \u001b[0;36msyncToSynapse\u001b[0;34m(syn, manifestFile, dryRun, sendMessages, retries)\u001b[0m\n\u001b[1;32m    869\u001b[0m \u001b[0;34m\u001b[0m\u001b[0m\n\u001b[1;32m    870\u001b[0m     \"\"\"\n\u001b[0;32m--> 871\u001b[0;31m     \u001b[0mdf\u001b[0m \u001b[0;34m=\u001b[0m \u001b[0mreadManifestFile\u001b[0m\u001b[0;34m(\u001b[0m\u001b[0msyn\u001b[0m\u001b[0;34m,\u001b[0m \u001b[0mmanifestFile\u001b[0m\u001b[0;34m)\u001b[0m\u001b[0;34m\u001b[0m\u001b[0;34m\u001b[0m\u001b[0m\n\u001b[0m\u001b[1;32m    872\u001b[0m     \u001b[0msizes\u001b[0m \u001b[0;34m=\u001b[0m \u001b[0;34m[\u001b[0m\u001b[0mos\u001b[0m\u001b[0;34m.\u001b[0m\u001b[0mstat\u001b[0m\u001b[0;34m(\u001b[0m\u001b[0mos\u001b[0m\u001b[0;34m.\u001b[0m\u001b[0mpath\u001b[0m\u001b[0;34m.\u001b[0m\u001b[0mexpandvars\u001b[0m\u001b[0;34m(\u001b[0m\u001b[0mos\u001b[0m\u001b[0;34m.\u001b[0m\u001b[0mpath\u001b[0m\u001b[0;34m.\u001b[0m\u001b[0mexpanduser\u001b[0m\u001b[0;34m(\u001b[0m\u001b[0mf\u001b[0m\u001b[0;34m)\u001b[0m\u001b[0;34m)\u001b[0m\u001b[0;34m)\u001b[0m\u001b[0;34m.\u001b[0m\u001b[0mst_size\u001b[0m \u001b[0;32mfor\u001b[0m \u001b[0mf\u001b[0m \u001b[0;32min\u001b[0m \u001b[0mdf\u001b[0m\u001b[0;34m.\u001b[0m\u001b[0mpath\u001b[0m \u001b[0;32mif\u001b[0m \u001b[0;32mnot\u001b[0m \u001b[0mis_url\u001b[0m\u001b[0;34m(\u001b[0m\u001b[0mf\u001b[0m\u001b[0;34m)\u001b[0m\u001b[0;34m]\u001b[0m\u001b[0;34m\u001b[0m\u001b[0;34m\u001b[0m\u001b[0m\n\u001b[1;32m    873\u001b[0m     \u001b[0;31m# Write output on what is getting pushed and estimated times - send out message.\u001b[0m\u001b[0;34m\u001b[0m\u001b[0;34m\u001b[0m\u001b[0;34m\u001b[0m\u001b[0m\n",
      "\u001b[0;32m~/Documents/anaconda3/lib/python3.7/site-packages/synapseutils/sync.py\u001b[0m in \u001b[0;36mreadManifestFile\u001b[0;34m(syn, manifestFile)\u001b[0m\n\u001b[1;32m    745\u001b[0m     \u001b[0msys\u001b[0m\u001b[0;34m.\u001b[0m\u001b[0mstdout\u001b[0m\u001b[0;34m.\u001b[0m\u001b[0mwrite\u001b[0m\u001b[0;34m(\u001b[0m\u001b[0;34m'Validation and upload of: %s\\n'\u001b[0m \u001b[0;34m%\u001b[0m \u001b[0mmanifestFile\u001b[0m\u001b[0;34m)\u001b[0m\u001b[0;34m\u001b[0m\u001b[0;34m\u001b[0m\u001b[0m\n\u001b[1;32m    746\u001b[0m     \u001b[0;31m# Read manifest file into pandas dataframe\u001b[0m\u001b[0;34m\u001b[0m\u001b[0;34m\u001b[0m\u001b[0;34m\u001b[0m\u001b[0m\n\u001b[0;32m--> 747\u001b[0;31m     \u001b[0mdf\u001b[0m \u001b[0;34m=\u001b[0m \u001b[0mpd\u001b[0m\u001b[0;34m.\u001b[0m\u001b[0mread_csv\u001b[0m\u001b[0;34m(\u001b[0m\u001b[0mmanifestFile\u001b[0m\u001b[0;34m,\u001b[0m \u001b[0msep\u001b[0m\u001b[0;34m=\u001b[0m\u001b[0;34m'\\t'\u001b[0m\u001b[0;34m)\u001b[0m\u001b[0;34m\u001b[0m\u001b[0;34m\u001b[0m\u001b[0m\n\u001b[0m\u001b[1;32m    748\u001b[0m     \u001b[0;32mif\u001b[0m \u001b[0;34m'synapseStore'\u001b[0m \u001b[0;32mnot\u001b[0m \u001b[0;32min\u001b[0m \u001b[0mdf\u001b[0m\u001b[0;34m:\u001b[0m\u001b[0;34m\u001b[0m\u001b[0;34m\u001b[0m\u001b[0m\n\u001b[1;32m    749\u001b[0m         \u001b[0mdf\u001b[0m \u001b[0;34m=\u001b[0m \u001b[0mdf\u001b[0m\u001b[0;34m.\u001b[0m\u001b[0massign\u001b[0m\u001b[0;34m(\u001b[0m\u001b[0msynapseStore\u001b[0m\u001b[0;34m=\u001b[0m\u001b[0;32mNone\u001b[0m\u001b[0;34m)\u001b[0m\u001b[0;34m\u001b[0m\u001b[0;34m\u001b[0m\u001b[0m\n",
      "\u001b[0;32m~/Documents/anaconda3/lib/python3.7/site-packages/pandas/io/parsers.py\u001b[0m in \u001b[0;36mparser_f\u001b[0;34m(filepath_or_buffer, sep, delimiter, header, names, index_col, usecols, squeeze, prefix, mangle_dupe_cols, dtype, engine, converters, true_values, false_values, skipinitialspace, skiprows, skipfooter, nrows, na_values, keep_default_na, na_filter, verbose, skip_blank_lines, parse_dates, infer_datetime_format, keep_date_col, date_parser, dayfirst, cache_dates, iterator, chunksize, compression, thousands, decimal, lineterminator, quotechar, quoting, doublequote, escapechar, comment, encoding, dialect, error_bad_lines, warn_bad_lines, delim_whitespace, low_memory, memory_map, float_precision)\u001b[0m\n\u001b[1;32m    683\u001b[0m         )\n\u001b[1;32m    684\u001b[0m \u001b[0;34m\u001b[0m\u001b[0m\n\u001b[0;32m--> 685\u001b[0;31m         \u001b[0;32mreturn\u001b[0m \u001b[0m_read\u001b[0m\u001b[0;34m(\u001b[0m\u001b[0mfilepath_or_buffer\u001b[0m\u001b[0;34m,\u001b[0m \u001b[0mkwds\u001b[0m\u001b[0;34m)\u001b[0m\u001b[0;34m\u001b[0m\u001b[0;34m\u001b[0m\u001b[0m\n\u001b[0m\u001b[1;32m    686\u001b[0m \u001b[0;34m\u001b[0m\u001b[0m\n\u001b[1;32m    687\u001b[0m     \u001b[0mparser_f\u001b[0m\u001b[0;34m.\u001b[0m\u001b[0m__name__\u001b[0m \u001b[0;34m=\u001b[0m \u001b[0mname\u001b[0m\u001b[0;34m\u001b[0m\u001b[0;34m\u001b[0m\u001b[0m\n",
      "\u001b[0;32m~/Documents/anaconda3/lib/python3.7/site-packages/pandas/io/parsers.py\u001b[0m in \u001b[0;36m_read\u001b[0;34m(filepath_or_buffer, kwds)\u001b[0m\n\u001b[1;32m    455\u001b[0m \u001b[0;34m\u001b[0m\u001b[0m\n\u001b[1;32m    456\u001b[0m     \u001b[0;31m# Create the parser.\u001b[0m\u001b[0;34m\u001b[0m\u001b[0;34m\u001b[0m\u001b[0;34m\u001b[0m\u001b[0m\n\u001b[0;32m--> 457\u001b[0;31m     \u001b[0mparser\u001b[0m \u001b[0;34m=\u001b[0m \u001b[0mTextFileReader\u001b[0m\u001b[0;34m(\u001b[0m\u001b[0mfp_or_buf\u001b[0m\u001b[0;34m,\u001b[0m \u001b[0;34m**\u001b[0m\u001b[0mkwds\u001b[0m\u001b[0;34m)\u001b[0m\u001b[0;34m\u001b[0m\u001b[0;34m\u001b[0m\u001b[0m\n\u001b[0m\u001b[1;32m    458\u001b[0m \u001b[0;34m\u001b[0m\u001b[0m\n\u001b[1;32m    459\u001b[0m     \u001b[0;32mif\u001b[0m \u001b[0mchunksize\u001b[0m \u001b[0;32mor\u001b[0m \u001b[0miterator\u001b[0m\u001b[0;34m:\u001b[0m\u001b[0;34m\u001b[0m\u001b[0;34m\u001b[0m\u001b[0m\n",
      "\u001b[0;32m~/Documents/anaconda3/lib/python3.7/site-packages/pandas/io/parsers.py\u001b[0m in \u001b[0;36m__init__\u001b[0;34m(self, f, engine, **kwds)\u001b[0m\n\u001b[1;32m    893\u001b[0m             \u001b[0mself\u001b[0m\u001b[0;34m.\u001b[0m\u001b[0moptions\u001b[0m\u001b[0;34m[\u001b[0m\u001b[0;34m\"has_index_names\"\u001b[0m\u001b[0;34m]\u001b[0m \u001b[0;34m=\u001b[0m \u001b[0mkwds\u001b[0m\u001b[0;34m[\u001b[0m\u001b[0;34m\"has_index_names\"\u001b[0m\u001b[0;34m]\u001b[0m\u001b[0;34m\u001b[0m\u001b[0;34m\u001b[0m\u001b[0m\n\u001b[1;32m    894\u001b[0m \u001b[0;34m\u001b[0m\u001b[0m\n\u001b[0;32m--> 895\u001b[0;31m         \u001b[0mself\u001b[0m\u001b[0;34m.\u001b[0m\u001b[0m_make_engine\u001b[0m\u001b[0;34m(\u001b[0m\u001b[0mself\u001b[0m\u001b[0;34m.\u001b[0m\u001b[0mengine\u001b[0m\u001b[0;34m)\u001b[0m\u001b[0;34m\u001b[0m\u001b[0;34m\u001b[0m\u001b[0m\n\u001b[0m\u001b[1;32m    896\u001b[0m \u001b[0;34m\u001b[0m\u001b[0m\n\u001b[1;32m    897\u001b[0m     \u001b[0;32mdef\u001b[0m \u001b[0mclose\u001b[0m\u001b[0;34m(\u001b[0m\u001b[0mself\u001b[0m\u001b[0;34m)\u001b[0m\u001b[0;34m:\u001b[0m\u001b[0;34m\u001b[0m\u001b[0;34m\u001b[0m\u001b[0m\n",
      "\u001b[0;32m~/Documents/anaconda3/lib/python3.7/site-packages/pandas/io/parsers.py\u001b[0m in \u001b[0;36m_make_engine\u001b[0;34m(self, engine)\u001b[0m\n\u001b[1;32m   1133\u001b[0m     \u001b[0;32mdef\u001b[0m \u001b[0m_make_engine\u001b[0m\u001b[0;34m(\u001b[0m\u001b[0mself\u001b[0m\u001b[0;34m,\u001b[0m \u001b[0mengine\u001b[0m\u001b[0;34m=\u001b[0m\u001b[0;34m\"c\"\u001b[0m\u001b[0;34m)\u001b[0m\u001b[0;34m:\u001b[0m\u001b[0;34m\u001b[0m\u001b[0;34m\u001b[0m\u001b[0m\n\u001b[1;32m   1134\u001b[0m         \u001b[0;32mif\u001b[0m \u001b[0mengine\u001b[0m \u001b[0;34m==\u001b[0m \u001b[0;34m\"c\"\u001b[0m\u001b[0;34m:\u001b[0m\u001b[0;34m\u001b[0m\u001b[0;34m\u001b[0m\u001b[0m\n\u001b[0;32m-> 1135\u001b[0;31m             \u001b[0mself\u001b[0m\u001b[0;34m.\u001b[0m\u001b[0m_engine\u001b[0m \u001b[0;34m=\u001b[0m \u001b[0mCParserWrapper\u001b[0m\u001b[0;34m(\u001b[0m\u001b[0mself\u001b[0m\u001b[0;34m.\u001b[0m\u001b[0mf\u001b[0m\u001b[0;34m,\u001b[0m \u001b[0;34m**\u001b[0m\u001b[0mself\u001b[0m\u001b[0;34m.\u001b[0m\u001b[0moptions\u001b[0m\u001b[0;34m)\u001b[0m\u001b[0;34m\u001b[0m\u001b[0;34m\u001b[0m\u001b[0m\n\u001b[0m\u001b[1;32m   1136\u001b[0m         \u001b[0;32melse\u001b[0m\u001b[0;34m:\u001b[0m\u001b[0;34m\u001b[0m\u001b[0;34m\u001b[0m\u001b[0m\n\u001b[1;32m   1137\u001b[0m             \u001b[0;32mif\u001b[0m \u001b[0mengine\u001b[0m \u001b[0;34m==\u001b[0m \u001b[0;34m\"python\"\u001b[0m\u001b[0;34m:\u001b[0m\u001b[0;34m\u001b[0m\u001b[0;34m\u001b[0m\u001b[0m\n",
      "\u001b[0;32m~/Documents/anaconda3/lib/python3.7/site-packages/pandas/io/parsers.py\u001b[0m in \u001b[0;36m__init__\u001b[0;34m(self, src, **kwds)\u001b[0m\n\u001b[1;32m   1915\u001b[0m         \u001b[0mkwds\u001b[0m\u001b[0;34m[\u001b[0m\u001b[0;34m\"usecols\"\u001b[0m\u001b[0;34m]\u001b[0m \u001b[0;34m=\u001b[0m \u001b[0mself\u001b[0m\u001b[0;34m.\u001b[0m\u001b[0musecols\u001b[0m\u001b[0;34m\u001b[0m\u001b[0;34m\u001b[0m\u001b[0m\n\u001b[1;32m   1916\u001b[0m \u001b[0;34m\u001b[0m\u001b[0m\n\u001b[0;32m-> 1917\u001b[0;31m         \u001b[0mself\u001b[0m\u001b[0;34m.\u001b[0m\u001b[0m_reader\u001b[0m \u001b[0;34m=\u001b[0m \u001b[0mparsers\u001b[0m\u001b[0;34m.\u001b[0m\u001b[0mTextReader\u001b[0m\u001b[0;34m(\u001b[0m\u001b[0msrc\u001b[0m\u001b[0;34m,\u001b[0m \u001b[0;34m**\u001b[0m\u001b[0mkwds\u001b[0m\u001b[0;34m)\u001b[0m\u001b[0;34m\u001b[0m\u001b[0;34m\u001b[0m\u001b[0m\n\u001b[0m\u001b[1;32m   1918\u001b[0m         \u001b[0mself\u001b[0m\u001b[0;34m.\u001b[0m\u001b[0munnamed_cols\u001b[0m \u001b[0;34m=\u001b[0m \u001b[0mself\u001b[0m\u001b[0;34m.\u001b[0m\u001b[0m_reader\u001b[0m\u001b[0;34m.\u001b[0m\u001b[0munnamed_cols\u001b[0m\u001b[0;34m\u001b[0m\u001b[0;34m\u001b[0m\u001b[0m\n\u001b[1;32m   1919\u001b[0m \u001b[0;34m\u001b[0m\u001b[0m\n",
      "\u001b[0;32mpandas/_libs/parsers.pyx\u001b[0m in \u001b[0;36mpandas._libs.parsers.TextReader.__cinit__\u001b[0;34m()\u001b[0m\n",
      "\u001b[0;32mpandas/_libs/parsers.pyx\u001b[0m in \u001b[0;36mpandas._libs.parsers.TextReader._setup_parser_source\u001b[0;34m()\u001b[0m\n",
      "\u001b[0;31mFileNotFoundError\u001b[0m: [Errno 2] File b'/Users/siddia/Desktop/data_upload_template.tsv' does not exist: b'/Users/siddia/Desktop/data_upload_template.tsv'"
     ]
    }
   ],
   "source": [
    "syn = synapseclient.login()\n",
    "import os\n",
    "synapseutils.sync.syncToSynapse( syn,\"/Users/siddia/Desktop/data_upload_template.tsv\", dryRun=True)\n",
    " #syncToSynapse(\"/path/to/manifest.tsv\")"
   ]
  },
  {
   "cell_type": "code",
   "execution_count": null,
   "metadata": {},
   "outputs": [],
   "source": []
  },
  {
   "cell_type": "markdown",
   "metadata": {},
   "source": [
    "## GoogleDrive Syncing of Data With Synapse\n",
    "https://github.com/zdk123/SynapseSync"
   ]
  },
  {
   "cell_type": "code",
   "execution_count": null,
   "metadata": {},
   "outputs": [],
   "source": [
    "##cant make it work For now"
   ]
  },
  {
   "cell_type": "code",
   "execution_count": 10,
   "metadata": {},
   "outputs": [],
   "source": [
    "#from synapsesync import SynpaseProject, GDriveSession\n",
    "#from synapseutils.sync import syncFromSynapse"
   ]
  },
  {
   "cell_type": "code",
   "execution_count": 9,
   "metadata": {},
   "outputs": [],
   "source": [
    "# ## If credentials are stored at ~/.synapseConfig\n",
    "# syn = SynpaseProject(\"ExampleProject\")\n",
    "\n",
    "# ## OR ##\n",
    "# ## email/password login:\n",
    "# syn = SynpaseProject()\n",
    "# syn.login(\"<user>\", \"<pass>\")\n",
    "# syn.set_project(\"ExampleProject\")\n",
    "\n",
    "# ## Continue:\n",
    "# syn.set_session(GDriveSession())\n",
    "# syncFromSynapse(syn, \"syn21306223\", path=\"./ExampleProject\")"
   ]
  },
  {
   "cell_type": "code",
   "execution_count": null,
   "metadata": {},
   "outputs": [],
   "source": []
  }
 ],
 "metadata": {
  "kernelspec": {
   "display_name": "Python 3",
   "language": "python",
   "name": "python3"
  },
  "language_info": {
   "codemirror_mode": {
    "name": "ipython",
    "version": 3
   },
   "file_extension": ".py",
   "mimetype": "text/x-python",
   "name": "python",
   "nbconvert_exporter": "python",
   "pygments_lexer": "ipython3",
   "version": "3.7.6"
  }
 },
 "nbformat": 4,
 "nbformat_minor": 4
}
